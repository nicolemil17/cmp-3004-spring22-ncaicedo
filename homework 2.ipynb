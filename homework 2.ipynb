{
 "cells": [
  {
   "cell_type": "markdown",
   "id": "d7ed56f5",
   "metadata": {},
   "source": [
    "# Homework 2\n",
    "\n",
    "### Nicole Caicedo"
   ]
  },
  {
   "cell_type": "markdown",
   "id": "b7e20625",
   "metadata": {},
   "source": [
    "1. Use assembly to solve the following problems:\n",
    "    1. Obtain the 50th Fibonacci number\n",
    "    2. Find out if a given year is leap\n",
    "    3. Given an array of integers, calculate the average\n",
    "    4. Write a program to transform from Celsius to Fahrenheit and vice versa\n",
    "    \n",
    "\n"
   ]
  },
  {
   "cell_type": "code",
   "execution_count": 2,
   "id": "1ec6b032",
   "metadata": {},
   "outputs": [
    {
     "name": "error_msg",
     "output_type": "stream",
     "text": [
      "Line 1: Invalid argument: 100h"
     ]
    }
   ],
   "source": [
    "org 100h\n",
    "\n",
    "jmp start\n",
    "\n",
    "\n",
    "num1 dw 1\n",
    "num2 dw 1\n",
    "\n",
    "start:\n",
    "  \n",
    "mov \tcx, 20 ;\tcounter (for the Fibonacci function)\n",
    "mov \tax, num1\n",
    "\n",
    "Fibonacci:\n",
    "    mov \tbx, num1\n",
    "    add \tbx, num2\n",
    "    mov \tdx, bx\n",
    "    mov \tbx, num1\n",
    "    mov \tnum2, bx\n",
    "    mov \tbx, dx\n",
    "    mov \tnum1, bx\n",
    "\n",
    "   \n",
    "loop Fibonacci  ; loop for 20 times\n",
    "\n",
    "mov ah, 0\n",
    "int 16h\n",
    "ret"
   ]
  },
  {
   "cell_type": "code",
   "execution_count": 4,
   "id": "87329ffd",
   "metadata": {},
   "outputs": [
    {
     "name": "error_msg",
     "output_type": "stream",
     "text": [
      "Line 1: Invalid argument: 100h"
     ]
    }
   ],
   "source": [
    "org 100h  \n",
    "\n",
    "include 'emu8086.inc'    \n",
    "\n",
    "mov cx, 04h\n",
    "\n",
    " \n",
    "inp:    mov ah, 01h\n",
    "        int 21h          \n",
    "\n",
    "        sub al, 30h    \n",
    "        mov bl, al\n",
    "        mov ax, dx\n",
    "        mov dx, 10h\n",
    "        mul dx     \n",
    "        \n",
    "        mov bh, 00h\n",
    "        add ax, bx\n",
    "        mov dx, ax\n",
    "    loop inp      \n",
    "          \n",
    "            \n",
    "mov ax, dx\n",
    "mov dx, 0000h\n",
    "mov bx, 64h\n",
    "mul bx\n",
    "mov bx, 100h\n",
    "div bx \n",
    "mov cx, ax\n",
    "mov dx, 0000h\n",
    "            \n",
    "mov bx, 400h\n",
    "div bx\n",
    "jz yes              \n",
    "\n",
    "mov ax, cx\n",
    "mov bx, 04h\n",
    "mov dx, 0000h\n",
    "div bx\n",
    "jnz no\n",
    "\n",
    "mov ax, cx   \n",
    "mov dx, 0000h\n",
    "mov bx, 100h\n",
    "div bx\n",
    "jnz no\n",
    "jz yes\n",
    "\n",
    "no: \n",
    "    print 'Not a  Leap Year'\n",
    "    jmp exit\n",
    "\n",
    "yes:\n",
    "    print 'Leap Year'\n",
    "\n",
    "exit:\n",
    "\n",
    "ret\n"
   ]
  },
  {
   "cell_type": "code",
   "execution_count": null,
   "id": "1f915a80",
   "metadata": {},
   "outputs": [],
   "source": [
    "data segment\n",
    "     array db 1,4,2,3,8,6,7,5,9\n",
    "     avg db ?\n",
    "     msg db \"average = $\"\n",
    "ends\n",
    "\n",
    "code segment \n",
    "    assume ds:data cs:code\n",
    "start:\n",
    "      mov ax,data\n",
    "      mov ds,ax\n",
    "\n",
    "      lea si,array \n",
    "      lea dx,msg\n",
    "      mov ah,9\n",
    "      int 21h\n",
    "\n",
    "      mov ax,00\n",
    "      mov bl,9\n",
    "\n",
    "      mov cx,9 \n",
    "      loop1:\n",
    "           add al,array[si]\n",
    "           inc si\n",
    "      loop loop1\n",
    "\n",
    "      div bl\n",
    "\n",
    "      add al,30h\n",
    "\n",
    "      mov dl,al\n",
    "      mov ah,2\n",
    "      int 21h\n",
    "\n",
    "      mov ah,4ch\n",
    "      int 21h     \n",
    "ends\n",
    "end start\n"
   ]
  },
  {
   "cell_type": "code",
   "execution_count": 5,
   "id": "6d0fb5a7",
   "metadata": {},
   "outputs": [
    {
     "name": "error_msg",
     "output_type": "stream",
     "text": [
      "Line 1: Invalid argument: \"celsi\""
     ]
    }
   ],
   "source": [
    "name \"celsi\"\n",
    "\n",
    "org 100h\n",
    "\n",
    "jmp start\n",
    "\n",
    "tc db 10    ; t celsius.\n",
    "tf db 0     ; t fahrenheit.\n",
    "\n",
    "result1 db ?   ; result in fahrenheit.\n",
    "result2 db ?   ; result in celsius.\n",
    "\n",
    "start:\n",
    "\n",
    "; formula: f = c * 9 / 5 + 32\n",
    "\n",
    "mov cl, tc\n",
    "mov al, 9\n",
    "imul cl\n",
    "mov cl, 5\n",
    "idiv cl\n",
    "add al, 32\n",
    "mov result1, al\n",
    "\n",
    "mov bl, result1\n",
    "call print  ; print bl\n",
    "\n",
    "\n",
    "; formula: c = (f - 32) * 5 / 9\n",
    "\n",
    "mov cl, tf\n",
    "sub cl, 32\n",
    "mov al, 5\n",
    "imul cl\n",
    "mov cl, 9\n",
    "idiv cl\n",
    "mov result2, al\n",
    "\n",
    "mov bl, result2\n",
    "call print  ; print bl\n",
    "\n",
    "\n",
    "mov ah, 0\n",
    "int 16h\n",
    "\n",
    "\n",
    "ret  \n",
    "\n",
    "\n",
    "\n",
    "print proc near\n",
    "\n",
    "pusha\n",
    "\n",
    "; print result in binary:\n",
    "mov cx, 8\n",
    "p1:    mov ah, 2   \n",
    "       mov dl, '0'\n",
    "       test bl, 10000000b  \n",
    "       jz zero\n",
    "       mov dl, '1'\n",
    "zero:  int 21h\n",
    "       shl bl, 1\n",
    "loop p1\n",
    "\n",
    "mov dl, 'b'\n",
    "int 21h\n",
    "\n",
    "mov dl, 0Dh\n",
    "int 21h\n",
    "mov dl, 0Ah\n",
    "int 21h\n",
    "\n",
    "popa\n",
    "\n",
    "ret  \n",
    "print endp\n"
   ]
  },
  {
   "cell_type": "markdown",
   "id": "6611ed8d",
   "metadata": {},
   "source": [
    "2. For a 16 bit word with 6 bits for an opcode\n",
    "    1. How many different instructions could I fit into the instruction set?\n",
    "    2. What is the largest number that I could use as data?\n"
   ]
  },
  {
   "cell_type": "markdown",
   "id": "7e32ac99",
   "metadata": {},
   "source": [
    "a) el numero de instrucciones sería 2^6 = 64 intrucciones en total\n",
    "\n",
    "b) el numero mas grande que podemos usar como dato sería 2^10-1 = 1023"
   ]
  },
  {
   "cell_type": "markdown",
   "id": "7cdd6a49",
   "metadata": {},
   "source": [
    "3. For the following memory space, what would it look like after executing the assembly code below:\n",
    "\n",
    "|Address|Contents|\n",
    "|-------|--------|\n",
    "|10     | 1      |\n",
    "|11     | 4      |\n",
    "|12     | 5      |\n",
    "|13     | 112    |\n",
    "|14     | 7      |\n",
    "\n",
    "```\n",
    "LOAD 14\n",
    "ADD (12)\n",
    "STORE 12\n",
    "```\n"
   ]
  },
  {
   "cell_type": "markdown",
   "id": "d2db7f4a",
   "metadata": {},
   "source": [
    "|Address|Contents|\n",
    "|-------|--------|\n",
    "|10     | 1      |\n",
    "|11     | 4      |\n",
    "|12     | 26     |\n",
    "|13     | 112    |\n",
    "|14     | 7      |\n",
    "\n",
    "pone 14 en el acumulador, luego le suma el numero 12. y lo guarda el resultado 26 en la locacion de memoria 12"
   ]
  },
  {
   "cell_type": "markdown",
   "id": "3c63229c",
   "metadata": {},
   "source": [
    "5. Write the following C function and generate the assembly code using `gcc`\n",
    "\n",
    "```\n",
    "void swap(int *d1p, int *d2p) \n",
    "{\n",
    "  int temp0 = *d1p;\n",
    "  int temp1 = *d2p;\n",
    "  *d1p = temp1;\n",
    "  *d2p = temp0;\n",
    "}\n",
    "```\n"
   ]
  },
  {
   "attachments": {
    "image.png": {
     "image/png": "[encoded data removed]"
    }
   },
   "cell_type": "markdown",
   "id": "650c7e01",
   "metadata": {},
   "source": [
    "![image.png](attachment:image.png)"
   ]
  },
  {
   "cell_type": "markdown",
   "id": "6dbc68a4",
   "metadata": {},
   "source": [
    "6. Create a similar function `swapl` that uses long integers instead\n",
    "    - What's the difference in the assembly code?\n"
   ]
  },
  {
   "attachments": {
    "image-2.png": {
     "image/png": "[encoded data removed]"
    }
   },
   "cell_type": "markdown",
   "id": "71e9b0f0",
   "metadata": {},
   "source": [
    "![image-2.png](attachment:image-2.png)\n",
    "\n",
    "int tiene 32 bits, mientras que long tiene 64 bits. Por ende donde va 32 rn uno, será 64 en el otro, y las operaciones que se realizan irian de acorde a esos datos. "
   ]
  },
  {
   "cell_type": "markdown",
   "id": "12d63e78",
   "metadata": {},
   "source": [
    "7. Implement a function named `abs_diff` that calculates the absolute value of the difference of two inputs `a` and `b` (i.e., |a-b|), and get the assembly code output"
   ]
  },
  {
   "attachments": {},
   "cell_type": "markdown",
   "id": "249085da",
   "metadata": {},
   "source": [
    "#include <stdio.h>\n",
    "#include <stdlib.h>\n",
    " \n",
    "int main()\n",
    "{\n",
    "     \n",
    "    int a,b;\n",
    "    int resta;\n",
    " \n",
    "    printf(\"a: \");\n",
    "    scanf(\"%d\",&a);\n",
    "    printf(\"b: \");\n",
    "    scanf(\"%d\",&b);\n",
    " \n",
    "    resta=abs(a-b);\n",
    " \n",
    "    printf(\"\\nLa resta es = %d\",a,b,resta);\n",
    "    return 0;\n",
    "}\n"
   ]
  },
  {
   "cell_type": "code",
   "execution_count": 6,
   "id": "d6e1afd6",
   "metadata": {},
   "outputs": [
    {
     "name": "error_msg",
     "output_type": "stream",
     "text": [
      "Line 2: Invalid argument: \"a:"
     ]
    }
   ],
   "source": [
    ".LC0:\n",
    "        .string \"a: \"\n",
    ".LC1:\n",
    "        .string \"%d\"\n",
    ".LC2:\n",
    "        .string \"b: \"\n",
    ".LC3:\n",
    "        .string \"\\nLa resta es = %d\"\n",
    "main:\n",
    "        push    rbp\n",
    "        mov     rbp, rsp\n",
    "        sub     rsp, 16\n",
    "        mov     edi, OFFSET FLAT:.LC0\n",
    "        mov     eax, 0\n",
    "        call    printf\n",
    "        lea     rax, [rbp-8]\n",
    "        mov     rsi, rax\n",
    "        mov     edi, OFFSET FLAT:.LC1\n",
    "        mov     eax, 0\n",
    "        call    __isoc99_scanf\n",
    "        mov     edi, OFFSET FLAT:.LC2\n",
    "        mov     eax, 0\n",
    "        call    printf\n",
    "        lea     rax, [rbp-12]\n",
    "        mov     rsi, rax\n",
    "        mov     edi, OFFSET FLAT:.LC1\n",
    "        mov     eax, 0\n",
    "        call    __isoc99_scanf\n",
    "        mov     eax, DWORD PTR [rbp-8]\n",
    "        mov     edx, DWORD PTR [rbp-12]\n",
    "        sub     eax, edx\n",
    "        mov     edx, eax\n",
    "        neg     edx\n",
    "        cmovns  eax, edx\n",
    "        mov     DWORD PTR [rbp-4], eax\n",
    "        mov     edx, DWORD PTR [rbp-12]\n",
    "        mov     eax, DWORD PTR [rbp-8]\n",
    "        mov     ecx, DWORD PTR [rbp-4]\n",
    "        mov     esi, eax\n",
    "        mov     edi, OFFSET FLAT:.LC3\n",
    "        mov     eax, 0\n",
    "        call    printf\n",
    "        mov     eax, 0\n",
    "        leave\n",
    "        ret"
   ]
  },
  {
   "cell_type": "code",
   "execution_count": null,
   "id": "491148fd",
   "metadata": {},
   "outputs": [],
   "source": []
  }
 ],
 "metadata": {
  "kernelspec": {
   "display_name": "Intel",
   "language": "",
   "name": "intel"
  },
  "language_info": {
   "file_extension": "x86",
   "mimetype": "intel",
   "name": "intel"
  }
 },
 "nbformat": 4,
 "nbformat_minor": 5
}
